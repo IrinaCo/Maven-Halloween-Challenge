{
 "cells": [
  {
   "cell_type": "markdown",
   "metadata": {},
   "source": [
    "# Maven Halloween Challenge"
   ]
  },
  {
   "cell_type": "markdown",
   "metadata": {},
   "source": [
    "### Challenge Objective"
   ]
  },
  {
   "cell_type": "markdown",
   "metadata": {},
   "source": [
    "For the Maven Halloween Challenge, we need to take a data-driven approach for becoming the most popular trick-or-treating house on the block.\n",
    "\n",
    "Using online votes ranking 85 types of candy, our task is to find the 3 treats you'll give out on Halloween to guarantee that trick-or-treaters of all tastes find something they'll love and present the data to back up your decision.\n",
    "\n",
    "Link to the challenge: https://mavenanalytics.io/challenges/maven-halloween-challenge/701f06a2-a19b-41e9-95d3-37a0dcc5492f"
   ]
  },
  {
   "cell_type": "markdown",
   "metadata": {},
   "source": [
    "### About the Dataset"
   ]
  },
  {
   "cell_type": "markdown",
   "metadata": {},
   "source": [
    "Data compiled from an experiment that set out to find the most popular Halloween candy by asking online voters to select their favorite from randomly generated matchups (for example, Twix or Snickers?), using 269k votes from random 1v1 matchups."
   ]
  },
  {
   "cell_type": "markdown",
   "metadata": {},
   "source": [
    "### Summary of Results and Methodology"
   ]
  },
  {
   "cell_type": "markdown",
   "metadata": {},
   "source": [
    "#### And the Winning Trio is... Reese's Peanut Butter Cups, Twix and Starburst"
   ]
  },
  {
   "cell_type": "markdown",
   "metadata": {},
   "source": [
    "After some basic exploration - looking at distributions, correlations and how the ingredients are combined into different types of treats, I decided to use K-means clustering to identify 3 treat categories that could align with 3 trick-or-treater profiles.<br> <br> Then, from each treat cluster I chose the top treat in terms of win %. The 3 winners became our winning treat trio!"
   ]
  },
  {
   "cell_type": "markdown",
   "metadata": {},
   "source": [
    "### Importing libararies and data"
   ]
  },
  {
   "cell_type": "code",
   "execution_count": 57,
   "metadata": {},
   "outputs": [],
   "source": [
    "### Importing libraries, setting display options and importing the data\n",
    "import pandas as pd\n",
    "import numpy as np\n",
    "import matplotlib.pyplot as plt\n",
    "import seaborn as sns"
   ]
  },
  {
   "cell_type": "code",
   "execution_count": 58,
   "metadata": {},
   "outputs": [],
   "source": [
    "# show all columns\n",
    "pd.options.display.max_columns = None\n",
    "pd.options.display.max_rows = None"
   ]
  },
  {
   "cell_type": "code",
   "execution_count": 59,
   "metadata": {},
   "outputs": [],
   "source": [
    "# import candy data!\n",
    "candy = pd.read_csv(r'C:\\Users\\Irina\\Documents\\GitHub Portofolio\\Maven Halloween Candy Challenge\\candy-data.csv')\n",
    "dictionary = pd.read_csv(r'C:\\Users\\Irina\\Documents\\GitHub Portofolio\\Maven Halloween Candy Challenge\\candy_data_dictionary.csv')"
   ]
  },
  {
   "cell_type": "markdown",
   "metadata": {},
   "source": [
    "### Data cleaning and basic exploration"
   ]
  },
  {
   "cell_type": "markdown",
   "metadata": {},
   "source": [
    "Let's preview the data and the data dictionary to see what we're working with:"
   ]
  },
  {
   "cell_type": "code",
   "execution_count": 60,
   "metadata": {},
   "outputs": [
    {
     "data": {
      "text/html": [
       "<div>\n",
       "<style scoped>\n",
       "    .dataframe tbody tr th:only-of-type {\n",
       "        vertical-align: middle;\n",
       "    }\n",
       "\n",
       "    .dataframe tbody tr th {\n",
       "        vertical-align: top;\n",
       "    }\n",
       "\n",
       "    .dataframe thead th {\n",
       "        text-align: right;\n",
       "    }\n",
       "</style>\n",
       "<table border=\"1\" class=\"dataframe\">\n",
       "  <thead>\n",
       "    <tr style=\"text-align: right;\">\n",
       "      <th></th>\n",
       "      <th>competitorname</th>\n",
       "      <th>chocolate</th>\n",
       "      <th>fruity</th>\n",
       "      <th>caramel</th>\n",
       "      <th>peanutyalmondy</th>\n",
       "      <th>nougat</th>\n",
       "      <th>crispedricewafer</th>\n",
       "      <th>hard</th>\n",
       "      <th>bar</th>\n",
       "      <th>pluribus</th>\n",
       "      <th>sugarpercent</th>\n",
       "      <th>pricepercent</th>\n",
       "      <th>winpercent</th>\n",
       "    </tr>\n",
       "  </thead>\n",
       "  <tbody>\n",
       "    <tr>\n",
       "      <th>0</th>\n",
       "      <td>100 Grand</td>\n",
       "      <td>1</td>\n",
       "      <td>0</td>\n",
       "      <td>1</td>\n",
       "      <td>0</td>\n",
       "      <td>0</td>\n",
       "      <td>1</td>\n",
       "      <td>0</td>\n",
       "      <td>1</td>\n",
       "      <td>0</td>\n",
       "      <td>0.732</td>\n",
       "      <td>0.860</td>\n",
       "      <td>66.971725</td>\n",
       "    </tr>\n",
       "    <tr>\n",
       "      <th>1</th>\n",
       "      <td>3 Musketeers</td>\n",
       "      <td>1</td>\n",
       "      <td>0</td>\n",
       "      <td>0</td>\n",
       "      <td>0</td>\n",
       "      <td>1</td>\n",
       "      <td>0</td>\n",
       "      <td>0</td>\n",
       "      <td>1</td>\n",
       "      <td>0</td>\n",
       "      <td>0.604</td>\n",
       "      <td>0.511</td>\n",
       "      <td>67.602936</td>\n",
       "    </tr>\n",
       "    <tr>\n",
       "      <th>2</th>\n",
       "      <td>One dime</td>\n",
       "      <td>0</td>\n",
       "      <td>0</td>\n",
       "      <td>0</td>\n",
       "      <td>0</td>\n",
       "      <td>0</td>\n",
       "      <td>0</td>\n",
       "      <td>0</td>\n",
       "      <td>0</td>\n",
       "      <td>0</td>\n",
       "      <td>0.011</td>\n",
       "      <td>0.116</td>\n",
       "      <td>32.261086</td>\n",
       "    </tr>\n",
       "    <tr>\n",
       "      <th>3</th>\n",
       "      <td>One quarter</td>\n",
       "      <td>0</td>\n",
       "      <td>0</td>\n",
       "      <td>0</td>\n",
       "      <td>0</td>\n",
       "      <td>0</td>\n",
       "      <td>0</td>\n",
       "      <td>0</td>\n",
       "      <td>0</td>\n",
       "      <td>0</td>\n",
       "      <td>0.011</td>\n",
       "      <td>0.511</td>\n",
       "      <td>46.116505</td>\n",
       "    </tr>\n",
       "    <tr>\n",
       "      <th>4</th>\n",
       "      <td>Air Heads</td>\n",
       "      <td>0</td>\n",
       "      <td>1</td>\n",
       "      <td>0</td>\n",
       "      <td>0</td>\n",
       "      <td>0</td>\n",
       "      <td>0</td>\n",
       "      <td>0</td>\n",
       "      <td>0</td>\n",
       "      <td>0</td>\n",
       "      <td>0.906</td>\n",
       "      <td>0.511</td>\n",
       "      <td>52.341465</td>\n",
       "    </tr>\n",
       "  </tbody>\n",
       "</table>\n",
       "</div>"
      ],
      "text/plain": [
       "  competitorname  chocolate  fruity  caramel  peanutyalmondy  nougat  \\\n",
       "0      100 Grand          1       0        1               0       0   \n",
       "1   3 Musketeers          1       0        0               0       1   \n",
       "2       One dime          0       0        0               0       0   \n",
       "3    One quarter          0       0        0               0       0   \n",
       "4      Air Heads          0       1        0               0       0   \n",
       "\n",
       "   crispedricewafer  hard  bar  pluribus  sugarpercent  pricepercent  \\\n",
       "0                 1     0    1         0         0.732         0.860   \n",
       "1                 0     0    1         0         0.604         0.511   \n",
       "2                 0     0    0         0         0.011         0.116   \n",
       "3                 0     0    0         0         0.011         0.511   \n",
       "4                 0     0    0         0         0.906         0.511   \n",
       "\n",
       "   winpercent  \n",
       "0   66.971725  \n",
       "1   67.602936  \n",
       "2   32.261086  \n",
       "3   46.116505  \n",
       "4   52.341465  "
      ]
     },
     "execution_count": 60,
     "metadata": {},
     "output_type": "execute_result"
    }
   ],
   "source": [
    "candy.head()"
   ]
  },
  {
   "cell_type": "code",
   "execution_count": 61,
   "metadata": {},
   "outputs": [
    {
     "data": {
      "text/html": [
       "<div>\n",
       "<style scoped>\n",
       "    .dataframe tbody tr th:only-of-type {\n",
       "        vertical-align: middle;\n",
       "    }\n",
       "\n",
       "    .dataframe tbody tr th {\n",
       "        vertical-align: top;\n",
       "    }\n",
       "\n",
       "    .dataframe thead th {\n",
       "        text-align: right;\n",
       "    }\n",
       "</style>\n",
       "<table border=\"1\" class=\"dataframe\">\n",
       "  <thead>\n",
       "    <tr style=\"text-align: right;\">\n",
       "      <th></th>\n",
       "      <th>Field</th>\n",
       "      <th>Description</th>\n",
       "    </tr>\n",
       "  </thead>\n",
       "  <tbody>\n",
       "    <tr>\n",
       "      <th>0</th>\n",
       "      <td>competitorname</td>\n",
       "      <td>The name of the candy</td>\n",
       "    </tr>\n",
       "    <tr>\n",
       "      <th>1</th>\n",
       "      <td>chocolate</td>\n",
       "      <td>Does it contain chocolate?</td>\n",
       "    </tr>\n",
       "    <tr>\n",
       "      <th>2</th>\n",
       "      <td>fruity</td>\n",
       "      <td>Is it fruit flavored?</td>\n",
       "    </tr>\n",
       "    <tr>\n",
       "      <th>3</th>\n",
       "      <td>caramel</td>\n",
       "      <td>Is there caramel in the candy?</td>\n",
       "    </tr>\n",
       "    <tr>\n",
       "      <th>4</th>\n",
       "      <td>peanutalmondy</td>\n",
       "      <td>Does it contain peanuts, peanut butter or almo...</td>\n",
       "    </tr>\n",
       "    <tr>\n",
       "      <th>5</th>\n",
       "      <td>nougat</td>\n",
       "      <td>Does it contain nougat?</td>\n",
       "    </tr>\n",
       "    <tr>\n",
       "      <th>6</th>\n",
       "      <td>crispedricewafer</td>\n",
       "      <td>Does it contain crisped rice, wafers, or a coo...</td>\n",
       "    </tr>\n",
       "    <tr>\n",
       "      <th>7</th>\n",
       "      <td>hard</td>\n",
       "      <td>Is it a hard candy?</td>\n",
       "    </tr>\n",
       "    <tr>\n",
       "      <th>8</th>\n",
       "      <td>bar</td>\n",
       "      <td>Is it a candy bar?</td>\n",
       "    </tr>\n",
       "    <tr>\n",
       "      <th>9</th>\n",
       "      <td>pluribus</td>\n",
       "      <td>Is it one of many candies in a bag or box?</td>\n",
       "    </tr>\n",
       "    <tr>\n",
       "      <th>10</th>\n",
       "      <td>sugarpercent</td>\n",
       "      <td>The percentile of sugar it falls under within ...</td>\n",
       "    </tr>\n",
       "    <tr>\n",
       "      <th>11</th>\n",
       "      <td>pricepercent</td>\n",
       "      <td>The unit price percentile compared to the rest...</td>\n",
       "    </tr>\n",
       "    <tr>\n",
       "      <th>12</th>\n",
       "      <td>winpercent</td>\n",
       "      <td>The overall win percentage according to 269,00...</td>\n",
       "    </tr>\n",
       "  </tbody>\n",
       "</table>\n",
       "</div>"
      ],
      "text/plain": [
       "               Field                                        Description\n",
       "0     competitorname                              The name of the candy\n",
       "1          chocolate                         Does it contain chocolate?\n",
       "2             fruity                              Is it fruit flavored?\n",
       "3            caramel                     Is there caramel in the candy?\n",
       "4      peanutalmondy  Does it contain peanuts, peanut butter or almo...\n",
       "5             nougat                            Does it contain nougat?\n",
       "6   crispedricewafer  Does it contain crisped rice, wafers, or a coo...\n",
       "7               hard                                Is it a hard candy?\n",
       "8                bar                                 Is it a candy bar?\n",
       "9           pluribus         Is it one of many candies in a bag or box?\n",
       "10      sugarpercent  The percentile of sugar it falls under within ...\n",
       "11      pricepercent  The unit price percentile compared to the rest...\n",
       "12        winpercent  The overall win percentage according to 269,00..."
      ]
     },
     "execution_count": 61,
     "metadata": {},
     "output_type": "execute_result"
    }
   ],
   "source": [
    "dictionary"
   ]
  },
  {
   "cell_type": "markdown",
   "metadata": {},
   "source": [
    "At a first glance data looks good - all numeric data (integer and float), no missing values, no duplicates."
   ]
  },
  {
   "cell_type": "markdown",
   "metadata": {},
   "source": [
    "The basic stats for each columns:"
   ]
  },
  {
   "cell_type": "code",
   "execution_count": 62,
   "metadata": {},
   "outputs": [
    {
     "data": {
      "text/html": [
       "<div>\n",
       "<style scoped>\n",
       "    .dataframe tbody tr th:only-of-type {\n",
       "        vertical-align: middle;\n",
       "    }\n",
       "\n",
       "    .dataframe tbody tr th {\n",
       "        vertical-align: top;\n",
       "    }\n",
       "\n",
       "    .dataframe thead th {\n",
       "        text-align: right;\n",
       "    }\n",
       "</style>\n",
       "<table border=\"1\" class=\"dataframe\">\n",
       "  <thead>\n",
       "    <tr style=\"text-align: right;\">\n",
       "      <th></th>\n",
       "      <th>chocolate</th>\n",
       "      <th>fruity</th>\n",
       "      <th>caramel</th>\n",
       "      <th>peanutyalmondy</th>\n",
       "      <th>nougat</th>\n",
       "      <th>crispedricewafer</th>\n",
       "      <th>hard</th>\n",
       "      <th>bar</th>\n",
       "      <th>pluribus</th>\n",
       "      <th>sugarpercent</th>\n",
       "      <th>pricepercent</th>\n",
       "      <th>winpercent</th>\n",
       "    </tr>\n",
       "  </thead>\n",
       "  <tbody>\n",
       "    <tr>\n",
       "      <th>count</th>\n",
       "      <td>85.000000</td>\n",
       "      <td>85.000000</td>\n",
       "      <td>85.000000</td>\n",
       "      <td>85.000000</td>\n",
       "      <td>85.000000</td>\n",
       "      <td>85.000000</td>\n",
       "      <td>85.000000</td>\n",
       "      <td>85.000000</td>\n",
       "      <td>85.000000</td>\n",
       "      <td>85.000000</td>\n",
       "      <td>85.000000</td>\n",
       "      <td>85.000000</td>\n",
       "    </tr>\n",
       "    <tr>\n",
       "      <th>mean</th>\n",
       "      <td>0.435294</td>\n",
       "      <td>0.447059</td>\n",
       "      <td>0.164706</td>\n",
       "      <td>0.164706</td>\n",
       "      <td>0.082353</td>\n",
       "      <td>0.082353</td>\n",
       "      <td>0.176471</td>\n",
       "      <td>0.247059</td>\n",
       "      <td>0.517647</td>\n",
       "      <td>0.478647</td>\n",
       "      <td>0.468882</td>\n",
       "      <td>50.316764</td>\n",
       "    </tr>\n",
       "    <tr>\n",
       "      <th>std</th>\n",
       "      <td>0.498738</td>\n",
       "      <td>0.500140</td>\n",
       "      <td>0.373116</td>\n",
       "      <td>0.373116</td>\n",
       "      <td>0.276533</td>\n",
       "      <td>0.276533</td>\n",
       "      <td>0.383482</td>\n",
       "      <td>0.433861</td>\n",
       "      <td>0.502654</td>\n",
       "      <td>0.282778</td>\n",
       "      <td>0.285740</td>\n",
       "      <td>14.714357</td>\n",
       "    </tr>\n",
       "    <tr>\n",
       "      <th>min</th>\n",
       "      <td>0.000000</td>\n",
       "      <td>0.000000</td>\n",
       "      <td>0.000000</td>\n",
       "      <td>0.000000</td>\n",
       "      <td>0.000000</td>\n",
       "      <td>0.000000</td>\n",
       "      <td>0.000000</td>\n",
       "      <td>0.000000</td>\n",
       "      <td>0.000000</td>\n",
       "      <td>0.011000</td>\n",
       "      <td>0.011000</td>\n",
       "      <td>22.445341</td>\n",
       "    </tr>\n",
       "    <tr>\n",
       "      <th>25%</th>\n",
       "      <td>0.000000</td>\n",
       "      <td>0.000000</td>\n",
       "      <td>0.000000</td>\n",
       "      <td>0.000000</td>\n",
       "      <td>0.000000</td>\n",
       "      <td>0.000000</td>\n",
       "      <td>0.000000</td>\n",
       "      <td>0.000000</td>\n",
       "      <td>0.000000</td>\n",
       "      <td>0.220000</td>\n",
       "      <td>0.255000</td>\n",
       "      <td>39.141056</td>\n",
       "    </tr>\n",
       "    <tr>\n",
       "      <th>50%</th>\n",
       "      <td>0.000000</td>\n",
       "      <td>0.000000</td>\n",
       "      <td>0.000000</td>\n",
       "      <td>0.000000</td>\n",
       "      <td>0.000000</td>\n",
       "      <td>0.000000</td>\n",
       "      <td>0.000000</td>\n",
       "      <td>0.000000</td>\n",
       "      <td>1.000000</td>\n",
       "      <td>0.465000</td>\n",
       "      <td>0.465000</td>\n",
       "      <td>47.829754</td>\n",
       "    </tr>\n",
       "    <tr>\n",
       "      <th>75%</th>\n",
       "      <td>1.000000</td>\n",
       "      <td>1.000000</td>\n",
       "      <td>0.000000</td>\n",
       "      <td>0.000000</td>\n",
       "      <td>0.000000</td>\n",
       "      <td>0.000000</td>\n",
       "      <td>0.000000</td>\n",
       "      <td>0.000000</td>\n",
       "      <td>1.000000</td>\n",
       "      <td>0.732000</td>\n",
       "      <td>0.651000</td>\n",
       "      <td>59.863998</td>\n",
       "    </tr>\n",
       "    <tr>\n",
       "      <th>max</th>\n",
       "      <td>1.000000</td>\n",
       "      <td>1.000000</td>\n",
       "      <td>1.000000</td>\n",
       "      <td>1.000000</td>\n",
       "      <td>1.000000</td>\n",
       "      <td>1.000000</td>\n",
       "      <td>1.000000</td>\n",
       "      <td>1.000000</td>\n",
       "      <td>1.000000</td>\n",
       "      <td>0.988000</td>\n",
       "      <td>0.976000</td>\n",
       "      <td>84.180290</td>\n",
       "    </tr>\n",
       "  </tbody>\n",
       "</table>\n",
       "</div>"
      ],
      "text/plain": [
       "       chocolate     fruity    caramel  peanutyalmondy     nougat  \\\n",
       "count  85.000000  85.000000  85.000000       85.000000  85.000000   \n",
       "mean    0.435294   0.447059   0.164706        0.164706   0.082353   \n",
       "std     0.498738   0.500140   0.373116        0.373116   0.276533   \n",
       "min     0.000000   0.000000   0.000000        0.000000   0.000000   \n",
       "25%     0.000000   0.000000   0.000000        0.000000   0.000000   \n",
       "50%     0.000000   0.000000   0.000000        0.000000   0.000000   \n",
       "75%     1.000000   1.000000   0.000000        0.000000   0.000000   \n",
       "max     1.000000   1.000000   1.000000        1.000000   1.000000   \n",
       "\n",
       "       crispedricewafer       hard        bar   pluribus  sugarpercent  \\\n",
       "count         85.000000  85.000000  85.000000  85.000000     85.000000   \n",
       "mean           0.082353   0.176471   0.247059   0.517647      0.478647   \n",
       "std            0.276533   0.383482   0.433861   0.502654      0.282778   \n",
       "min            0.000000   0.000000   0.000000   0.000000      0.011000   \n",
       "25%            0.000000   0.000000   0.000000   0.000000      0.220000   \n",
       "50%            0.000000   0.000000   0.000000   1.000000      0.465000   \n",
       "75%            0.000000   0.000000   0.000000   1.000000      0.732000   \n",
       "max            1.000000   1.000000   1.000000   1.000000      0.988000   \n",
       "\n",
       "       pricepercent  winpercent  \n",
       "count     85.000000   85.000000  \n",
       "mean       0.468882   50.316764  \n",
       "std        0.285740   14.714357  \n",
       "min        0.011000   22.445341  \n",
       "25%        0.255000   39.141056  \n",
       "50%        0.465000   47.829754  \n",
       "75%        0.651000   59.863998  \n",
       "max        0.976000   84.180290  "
      ]
     },
     "execution_count": 62,
     "metadata": {},
     "output_type": "execute_result"
    }
   ],
   "source": [
    "# basic stats for each column\n",
    "candy.describe()"
   ]
  },
  {
   "cell_type": "markdown",
   "metadata": {},
   "source": [
    "Looking at nulls and data types:"
   ]
  },
  {
   "cell_type": "code",
   "execution_count": 63,
   "metadata": {},
   "outputs": [
    {
     "name": "stdout",
     "output_type": "stream",
     "text": [
      "<class 'pandas.core.frame.DataFrame'>\n",
      "RangeIndex: 85 entries, 0 to 84\n",
      "Data columns (total 13 columns):\n",
      " #   Column            Non-Null Count  Dtype  \n",
      "---  ------            --------------  -----  \n",
      " 0   competitorname    85 non-null     object \n",
      " 1   chocolate         85 non-null     int64  \n",
      " 2   fruity            85 non-null     int64  \n",
      " 3   caramel           85 non-null     int64  \n",
      " 4   peanutyalmondy    85 non-null     int64  \n",
      " 5   nougat            85 non-null     int64  \n",
      " 6   crispedricewafer  85 non-null     int64  \n",
      " 7   hard              85 non-null     int64  \n",
      " 8   bar               85 non-null     int64  \n",
      " 9   pluribus          85 non-null     int64  \n",
      " 10  sugarpercent      85 non-null     float64\n",
      " 11  pricepercent      85 non-null     float64\n",
      " 12  winpercent        85 non-null     float64\n",
      "dtypes: float64(3), int64(9), object(1)\n",
      "memory usage: 8.8+ KB\n"
     ]
    }
   ],
   "source": [
    "# nulls and data types\n",
    "candy.info()"
   ]
  },
  {
   "cell_type": "markdown",
   "metadata": {},
   "source": [
    "Even though the dataset is very small, let's do a quick check for duplicates by competitorname:"
   ]
  },
  {
   "cell_type": "code",
   "execution_count": 64,
   "metadata": {},
   "outputs": [
    {
     "data": {
      "text/plain": [
       "False"
      ]
     },
     "execution_count": 64,
     "metadata": {},
     "output_type": "execute_result"
    }
   ],
   "source": [
    "# checking for duplicates\n",
    "candy['competitorname'].duplicated().any()"
   ]
  },
  {
   "cell_type": "markdown",
   "metadata": {},
   "source": [
    "As we will try a clustering algorithm later,  we'll create a new column now for the win%, to bring it on the same scale as the price and sugar percentile."
   ]
  },
  {
   "cell_type": "code",
   "execution_count": 65,
   "metadata": {},
   "outputs": [],
   "source": [
    "# bring the win percentage on the same scale as sugar and price\n",
    "candy['win'] = candy['winpercent']/100"
   ]
  },
  {
   "cell_type": "markdown",
   "metadata": {},
   "source": [
    "### Let's visualize the data!"
   ]
  },
  {
   "cell_type": "markdown",
   "metadata": {},
   "source": [
    "Now let's see some distributions for different characteristics of each candy."
   ]
  },
  {
   "cell_type": "code",
   "execution_count": 66,
   "metadata": {},
   "outputs": [
    {
     "data": {
      "text/plain": [
       "Index(['competitorname', 'chocolate', 'fruity', 'caramel', 'peanutyalmondy',\n",
       "       'nougat', 'crispedricewafer', 'hard', 'bar', 'pluribus', 'sugarpercent',\n",
       "       'pricepercent', 'winpercent', 'win'],\n",
       "      dtype='object')"
      ]
     },
     "execution_count": 66,
     "metadata": {},
     "output_type": "execute_result"
    }
   ],
   "source": [
    "# extract the column names\n",
    "candy.columns"
   ]
  },
  {
   "cell_type": "code",
   "execution_count": 67,
   "metadata": {},
   "outputs": [],
   "source": [
    "# separate list of ingredients\n",
    "ingredient_list = ['chocolate','fruity','caramel','peanutyalmondy', 'nougat', 'crispedricewafer']"
   ]
  },
  {
   "cell_type": "code",
   "execution_count": 68,
   "metadata": {},
   "outputs": [],
   "source": [
    "# included all the percentages on the same scale\n",
    "pct_list = ['sugarpercent','pricepercent','win']"
   ]
  },
  {
   "cell_type": "code",
   "execution_count": 186,
   "metadata": {},
   "outputs": [],
   "source": [
    "# candy by shape\n",
    "candy_shape = ['hard','bar','pluribus']"
   ]
  },
  {
   "cell_type": "markdown",
   "metadata": {},
   "source": [
    "While the price and sugar are included in the data as percentiles (which would be represented on a curve), the win% is more interesting. I want to see how the win percentages are distributed, so we'll create a histogram. The result looks close to a normal distribution."
   ]
  },
  {
   "cell_type": "code",
   "execution_count": 182,
   "metadata": {},
   "outputs": [
    {
     "data": {
      "image/png": "[encoded data removed]",
      "text/plain": [
       "<Figure size 360x216 with 1 Axes>"
      ]
     },
     "metadata": {},
     "output_type": "display_data"
    }
   ],
   "source": [
    "sns.set(rc={\"figure.figsize\":(5,3)}, style=\"ticks\")\n",
    "candy['win'].hist()\n",
    "sns.despine()\n",
    "plt.xlabel(\"Win Percent\")\n",
    "plt.show()"
   ]
  },
  {
   "cell_type": "markdown",
   "metadata": {},
   "source": [
    "And to start simple, let's see which ingredients are the most common:"
   ]
  },
  {
   "cell_type": "code",
   "execution_count": 185,
   "metadata": {},
   "outputs": [
    {
     "data": {
      "image/png": "[encoded data removed]",
      "text/plain": [
       "<Figure size 360x216 with 1 Axes>"
      ]
     },
     "metadata": {},
     "output_type": "display_data"
    }
   ],
   "source": [
    "candy[ingredient_list].sum().sort_values(ascending=True).plot.barh()\n",
    "sns.despine()"
   ]
  },
  {
   "cell_type": "markdown",
   "metadata": {},
   "source": [
    "Which are the most popular candy shapes / packaging styles?"
   ]
  },
  {
   "cell_type": "code",
   "execution_count": 187,
   "metadata": {},
   "outputs": [
    {
     "data": {
      "image/png": "[encoded data removed]",
      "text/plain": [
       "<Figure size 360x216 with 1 Axes>"
      ]
     },
     "metadata": {},
     "output_type": "display_data"
    }
   ],
   "source": [
    "candy[candy_shape].sum().sort_values(ascending=True).plot.barh()\n",
    "sns.despine()"
   ]
  },
  {
   "cell_type": "markdown",
   "metadata": {},
   "source": [
    "### Now for the fun part -  let's see how different ingredients combine in different treats. The UpSet Plot."
   ]
  },
  {
   "cell_type": "markdown",
   "metadata": {},
   "source": [
    "I recently stumbled upon a very interesting type of plot - the UpSet plot (see more here: https://en.wikipedia.org/wiki/UpSet_plot)"
   ]
  },
  {
   "cell_type": "markdown",
   "metadata": {},
   "source": [
    "The UpSet plot is a data visualization method for showing set data with more than three intersecting sets. Here we have several ingredients intersecting and forming different treats, so I thought it would be a useful tool to help us understand the data at a glance."
   ]
  },
  {
   "cell_type": "markdown",
   "metadata": {},
   "source": [
    "Python has a special library that helps us create this type of plot, so next we will prepare the data and generate this plot."
   ]
  },
  {
   "cell_type": "code",
   "execution_count": 72,
   "metadata": {},
   "outputs": [],
   "source": [
    "# if we don't have this library installed, here's the code to do it:\n",
    "# pip install upsetplot"
   ]
  },
  {
   "cell_type": "code",
   "execution_count": 73,
   "metadata": {},
   "outputs": [],
   "source": [
    "from upsetplot import UpSet"
   ]
  },
  {
   "cell_type": "code",
   "execution_count": 75,
   "metadata": {},
   "outputs": [
    {
     "data": {
      "text/plain": [
       "Index(['competitorname', 'chocolate', 'fruity', 'caramel', 'peanutyalmondy',\n",
       "       'nougat', 'crispedricewafer', 'hard', 'bar', 'pluribus', 'sugarpercent',\n",
       "       'pricepercent', 'winpercent', 'win'],\n",
       "      dtype='object')"
      ]
     },
     "execution_count": 75,
     "metadata": {},
     "output_type": "execute_result"
    }
   ],
   "source": [
    "candy.columns"
   ]
  },
  {
   "cell_type": "markdown",
   "metadata": {},
   "source": [
    "We need to prepare data in a different shape to be able to generate this type of chart. <br>First we'll isolate the columns we need and convert the 0 and 1 to True/False.<br> I will generate 2 versions of the plot - one with ingredients only (simpler and easier to follow) and another with ingredients and shapes."
   ]
  },
  {
   "cell_type": "code",
   "execution_count": 208,
   "metadata": {},
   "outputs": [],
   "source": [
    "candy_upset = candy[['chocolate', 'fruity', 'caramel', 'peanutyalmondy', 'nougat',\n",
    "       'crispedricewafer']].replace({0:False, 1:True})"
   ]
  },
  {
   "cell_type": "code",
   "execution_count": 209,
   "metadata": {},
   "outputs": [],
   "source": [
    "candy_upset_all = candy[['chocolate', 'fruity', 'caramel', 'peanutyalmondy',\n",
    "       'nougat', 'crispedricewafer', 'hard', 'bar', 'pluribus']].replace({0:False, 1:True})"
   ]
  },
  {
   "cell_type": "code",
   "execution_count": 210,
   "metadata": {},
   "outputs": [
    {
     "data": {
      "text/html": [
       "<div>\n",
       "<style scoped>\n",
       "    .dataframe tbody tr th:only-of-type {\n",
       "        vertical-align: middle;\n",
       "    }\n",
       "\n",
       "    .dataframe tbody tr th {\n",
       "        vertical-align: top;\n",
       "    }\n",
       "\n",
       "    .dataframe thead th {\n",
       "        text-align: right;\n",
       "    }\n",
       "</style>\n",
       "<table border=\"1\" class=\"dataframe\">\n",
       "  <thead>\n",
       "    <tr style=\"text-align: right;\">\n",
       "      <th></th>\n",
       "      <th>chocolate</th>\n",
       "      <th>fruity</th>\n",
       "      <th>caramel</th>\n",
       "      <th>peanutyalmondy</th>\n",
       "      <th>nougat</th>\n",
       "      <th>crispedricewafer</th>\n",
       "    </tr>\n",
       "    <tr>\n",
       "      <th>competitorname</th>\n",
       "      <th></th>\n",
       "      <th></th>\n",
       "      <th></th>\n",
       "      <th></th>\n",
       "      <th></th>\n",
       "      <th></th>\n",
       "    </tr>\n",
       "  </thead>\n",
       "  <tbody>\n",
       "    <tr>\n",
       "      <th>100 Grand</th>\n",
       "      <td>True</td>\n",
       "      <td>False</td>\n",
       "      <td>True</td>\n",
       "      <td>False</td>\n",
       "      <td>False</td>\n",
       "      <td>True</td>\n",
       "    </tr>\n",
       "    <tr>\n",
       "      <th>3 Musketeers</th>\n",
       "      <td>True</td>\n",
       "      <td>False</td>\n",
       "      <td>False</td>\n",
       "      <td>False</td>\n",
       "      <td>True</td>\n",
       "      <td>False</td>\n",
       "    </tr>\n",
       "    <tr>\n",
       "      <th>One dime</th>\n",
       "      <td>False</td>\n",
       "      <td>False</td>\n",
       "      <td>False</td>\n",
       "      <td>False</td>\n",
       "      <td>False</td>\n",
       "      <td>False</td>\n",
       "    </tr>\n",
       "  </tbody>\n",
       "</table>\n",
       "</div>"
      ],
      "text/plain": [
       "                chocolate  fruity  caramel  peanutyalmondy  nougat  \\\n",
       "competitorname                                                       \n",
       "100 Grand            True   False     True           False   False   \n",
       "3 Musketeers         True   False    False           False    True   \n",
       "One dime            False   False    False           False   False   \n",
       "\n",
       "                crispedricewafer  \n",
       "competitorname                    \n",
       "100 Grand                   True  \n",
       "3 Musketeers               False  \n",
       "One dime                   False  "
      ]
     },
     "execution_count": 210,
     "metadata": {},
     "output_type": "execute_result"
    }
   ],
   "source": [
    "candy_upset.head(3)"
   ]
  },
  {
   "cell_type": "markdown",
   "metadata": {},
   "source": [
    "Another necessary step for this type of plot - set the index:"
   ]
  },
  {
   "cell_type": "code",
   "execution_count": 211,
   "metadata": {},
   "outputs": [],
   "source": [
    "candy_upset = candy_upset.set_index(list(candy_upset[['chocolate', 'fruity', 'caramel', 'peanutyalmondy', \n",
    "                                                      'nougat','crispedricewafer']].columns))"
   ]
  },
  {
   "cell_type": "code",
   "execution_count": 212,
   "metadata": {},
   "outputs": [],
   "source": [
    "candy_upset_all = candy_upset_all.set_index(list(candy_upset_all[['chocolate', 'fruity', 'caramel', \n",
    "                                                                  'peanutyalmondy','nougat','crispedricewafer', \n",
    "                                                                  'hard', 'bar', 'pluribus']].columns))"
   ]
  },
  {
   "cell_type": "code",
   "execution_count": 213,
   "metadata": {},
   "outputs": [
    {
     "data": {
      "text/html": [
       "<div>\n",
       "<style scoped>\n",
       "    .dataframe tbody tr th:only-of-type {\n",
       "        vertical-align: middle;\n",
       "    }\n",
       "\n",
       "    .dataframe tbody tr th {\n",
       "        vertical-align: top;\n",
       "    }\n",
       "\n",
       "    .dataframe thead th {\n",
       "        text-align: right;\n",
       "    }\n",
       "</style>\n",
       "<table border=\"1\" class=\"dataframe\">\n",
       "  <thead>\n",
       "    <tr style=\"text-align: right;\">\n",
       "      <th></th>\n",
       "      <th></th>\n",
       "      <th></th>\n",
       "      <th></th>\n",
       "      <th></th>\n",
       "      <th></th>\n",
       "    </tr>\n",
       "    <tr>\n",
       "      <th>chocolate</th>\n",
       "      <th>fruity</th>\n",
       "      <th>caramel</th>\n",
       "      <th>peanutyalmondy</th>\n",
       "      <th>nougat</th>\n",
       "      <th>crispedricewafer</th>\n",
       "    </tr>\n",
       "  </thead>\n",
       "  <tbody>\n",
       "    <tr>\n",
       "      <th rowspan=\"2\" valign=\"top\">True</th>\n",
       "      <th rowspan=\"2\" valign=\"top\">False</th>\n",
       "      <th>True</th>\n",
       "      <th>False</th>\n",
       "      <th>False</th>\n",
       "      <th>True</th>\n",
       "    </tr>\n",
       "    <tr>\n",
       "      <th>False</th>\n",
       "      <th>False</th>\n",
       "      <th>True</th>\n",
       "      <th>False</th>\n",
       "    </tr>\n",
       "    <tr>\n",
       "      <th>False</th>\n",
       "      <th>False</th>\n",
       "      <th>False</th>\n",
       "      <th>False</th>\n",
       "      <th>False</th>\n",
       "      <th>False</th>\n",
       "    </tr>\n",
       "  </tbody>\n",
       "</table>\n",
       "</div>"
      ],
      "text/plain": [
       "Empty DataFrame\n",
       "Columns: []\n",
       "Index: [(True, False, True, False, False, True), (True, False, False, False, True, False), (False, False, False, False, False, False)]"
      ]
     },
     "execution_count": 213,
     "metadata": {},
     "output_type": "execute_result"
    }
   ],
   "source": [
    "candy_upset.head(3)"
   ]
  },
  {
   "cell_type": "markdown",
   "metadata": {},
   "source": [
    "<b>And show the plot!</b>"
   ]
  },
  {
   "cell_type": "markdown",
   "metadata": {},
   "source": [
    "On the right we have a bar chart of all the ingredients and their overall counts.\n",
    "<br>On the top we have the size of each intersection (Ex: how many treats have a combination of chocolate and peanuts?)\n",
    "<br>The matrix shows the intersection of all ingredients"
   ]
  },
  {
   "cell_type": "markdown",
   "metadata": {},
   "source": [
    "The ingredient only plot:"
   ]
  },
  {
   "cell_type": "code",
   "execution_count": 216,
   "metadata": {},
   "outputs": [
    {
     "data": {
      "text/plain": [
       "{'matrix': <AxesSubplot:>,\n",
       " 'shading': <AxesSubplot:>,\n",
       " 'totals': <AxesSubplot:>,\n",
       " 'intersections': <AxesSubplot:ylabel='Intersection size'>}"
      ]
     },
     "execution_count": 216,
     "metadata": {},
     "output_type": "execute_result"
    },
    {
     "data": {
      "image/png": "[encoded data removed]",
      "text/plain": [
       "<Figure size 704x288 with 4 Axes>"
      ]
     },
     "metadata": {},
     "output_type": "display_data"
    }
   ],
   "source": [
    "sns.set(rc={\"figure.figsize\":(20, 40)},style='ticks')\n",
    "upset = UpSet(candy_upset,subset_size=\"count\", intersection_plot_elements=3,show_counts=True)\n",
    "upset.plot()"
   ]
  },
  {
   "cell_type": "markdown",
   "metadata": {},
   "source": [
    "And the plot that includes all candy attributes - ingredients and shapes. "
   ]
  },
  {
   "cell_type": "code",
   "execution_count": 217,
   "metadata": {},
   "outputs": [
    {
     "data": {
      "text/plain": [
       "{'matrix': <AxesSubplot:>,\n",
       " 'shading': <AxesSubplot:>,\n",
       " 'totals': <AxesSubplot:>,\n",
       " 'intersections': <AxesSubplot:ylabel='Intersection size'>}"
      ]
     },
     "execution_count": 217,
     "metadata": {},
     "output_type": "execute_result"
    },
    {
     "data": {
      "image/png": "[encoded data removed]",
      "text/plain": [
       "<Figure size 1120x384 with 4 Axes>"
      ]
     },
     "metadata": {},
     "output_type": "display_data"
    }
   ],
   "source": [
    "sns.set(rc={\"figure.figsize\":(20, 40)},style='ticks')\n",
    "upset = UpSet(candy_upset_all,subset_size=\"count\", intersection_plot_elements=3)\n",
    "upset.plot()"
   ]
  },
  {
   "cell_type": "markdown",
   "metadata": {},
   "source": [
    "I personally prefer the first version of the plot, which is simpler and gives me a good idea of how the ingredients are distributed."
   ]
  },
  {
   "cell_type": "markdown",
   "metadata": {},
   "source": [
    "### Let's see some correlations between ingredients and winpercent"
   ]
  },
  {
   "cell_type": "markdown",
   "metadata": {},
   "source": [
    "We'll check strength of the relationship between the variables in our data"
   ]
  },
  {
   "cell_type": "markdown",
   "metadata": {},
   "source": [
    "First, let's look at how all the variables we have correlate with the win percent. It seems that the top 3 elements that are positively correlated with winning are \"chocolate\", \"bar\" and \"peanutalmondy\""
   ]
  },
  {
   "cell_type": "code",
   "execution_count": 86,
   "metadata": {},
   "outputs": [],
   "source": [
    "corr_variables = ['chocolate', 'fruity', 'caramel', 'peanutyalmondy', 'nougat',\n",
    "       'crispedricewafer', 'hard', 'bar', 'pluribus', 'sugarpercent',\n",
    "       'pricepercent', 'win']"
   ]
  },
  {
   "cell_type": "code",
   "execution_count": 87,
   "metadata": {},
   "outputs": [
    {
     "data": {
      "image/png": "[encoded data removed]",
      "text/plain": [
       "<Figure size 216x720 with 2 Axes>"
      ]
     },
     "metadata": {},
     "output_type": "display_data"
    }
   ],
   "source": [
    "sns.set(rc={\"figure.figsize\":(3, 10)}, style=\"ticks\")\n",
    "heatmap = sns.heatmap(candy[corr_variables].corr()[['win']].sort_values(by='win',ascending=False),vmin=-1,vmax=1,annot=True,cmap=\"RdBu\")\n",
    "heatmap.set_title('Correlation between win percent and ingredients/characteristics')\n",
    "plt.show()"
   ]
  },
  {
   "cell_type": "markdown",
   "metadata": {},
   "source": [
    "However, if we look at the correlations between all the elements, we see that there's a relatively high correlation between chocolate and bar. <br> This makes sense, considering that ususally chocolate comes in bar form.`"
   ]
  },
  {
   "cell_type": "code",
   "execution_count": 88,
   "metadata": {},
   "outputs": [
    {
     "data": {
      "text/plain": [
       "<AxesSubplot:>"
      ]
     },
     "execution_count": 88,
     "metadata": {},
     "output_type": "execute_result"
    },
    {
     "data": {
      "image/png": "[encoded data removed]",
      "text/plain": [
       "<Figure size 720x360 with 2 Axes>"
      ]
     },
     "metadata": {},
     "output_type": "display_data"
    }
   ],
   "source": [
    "sns.set(rc={\"figure.figsize\":(10, 5)}, style=\"ticks\")\n",
    "corr_matrix = candy[corr_variables].corr()\n",
    "mask = np.triu(np.ones_like(corr_matrix, dtype = bool))\n",
    "sns.heatmap(candy[corr_variables].corr(),annot=True,cmap=\"RdBu\",center=0, linewidths=1, fmt=\".2f\",mask=mask)"
   ]
  },
  {
   "cell_type": "markdown",
   "metadata": {},
   "source": [
    "Let's dive deeper into the relationships between win - sugar and win - price and see if they are statistically significant.m"
   ]
  },
  {
   "cell_type": "code",
   "execution_count": 219,
   "metadata": {},
   "outputs": [
    {
     "data": {
      "text/plain": [
       "<seaborn.axisgrid.FacetGrid at 0x1e9afcaa048>"
      ]
     },
     "execution_count": 219,
     "metadata": {},
     "output_type": "execute_result"
    },
    {
     "data": {
      "image/png": "[encoded data removed]",
      "text/plain": [
       "<Figure size 360x360 with 1 Axes>"
      ]
     },
     "metadata": {},
     "output_type": "display_data"
    }
   ],
   "source": [
    "sns.set(rc={\"figure.figsize\":(7, 7)}, style=\"white\")\n",
    "sns.lmplot(data=candy, x='pricepercent', y='win')"
   ]
  },
  {
   "cell_type": "code",
   "execution_count": 90,
   "metadata": {},
   "outputs": [
    {
     "data": {
      "text/plain": [
       "<seaborn.axisgrid.FacetGrid at 0x1e9abf32f48>"
      ]
     },
     "execution_count": 90,
     "metadata": {},
     "output_type": "execute_result"
    },
    {
     "data": {
      "image/png": "[encoded data removed]",
      "text/plain": [
       "<Figure size 360x360 with 1 Axes>"
      ]
     },
     "metadata": {},
     "output_type": "display_data"
    }
   ],
   "source": [
    "sns.set(rc={\"figure.figsize\":(7, 7)}, style=\"white\")\n",
    "sns.lmplot(data=candy, x='sugarpercent', y='win')"
   ]
  },
  {
   "cell_type": "markdown",
   "metadata": {},
   "source": [
    "Both correlations are low/moderate and statistically significant (the p-values calculated below are < 0.05 in both cases)."
   ]
  },
  {
   "cell_type": "code",
   "execution_count": null,
   "metadata": {},
   "outputs": [],
   "source": [
    "# import the library that helps us calculate the p value\n",
    "from scipy.stats import pearsonr"
   ]
  },
  {
   "cell_type": "code",
   "execution_count": 91,
   "metadata": {},
   "outputs": [
    {
     "data": {
      "text/plain": [
       "(0.22915065712800653, 0.03489789676169812)"
      ]
     },
     "execution_count": 91,
     "metadata": {},
     "output_type": "execute_result"
    }
   ],
   "source": [
    "pearsonr(candy['win'], candy['sugarpercent'])"
   ]
  },
  {
   "cell_type": "code",
   "execution_count": 92,
   "metadata": {},
   "outputs": [
    {
     "data": {
      "text/plain": [
       "(0.34532540996768485, 0.0012088290261781025)"
      ]
     },
     "execution_count": 92,
     "metadata": {},
     "output_type": "execute_result"
    }
   ],
   "source": [
    "pearsonr(candy['win'], candy['pricepercent'])"
   ]
  },
  {
   "cell_type": "markdown",
   "metadata": {},
   "source": [
    "### Group the candy using K-Means Clustering"
   ]
  },
  {
   "cell_type": "markdown",
   "metadata": {},
   "source": [
    "I tried different combinations of elements for clustering before settling on the one below. Interestingly, although the composition of the clusters differed each time, the winners were always the same.\n",
    "\n",
    "In the end, I decided to focus on ingredients only for clustering, leaving out the shape/packaging of the candy, price and sugar contents. I found that this approach give a clearer separation which made sense to me, considering my candy domain knowledge :)"
   ]
  },
  {
   "cell_type": "code",
   "execution_count": 93,
   "metadata": {},
   "outputs": [],
   "source": [
    "# set the competitor name as index\n",
    "candy = candy.set_index('competitorname')"
   ]
  },
  {
   "cell_type": "markdown",
   "metadata": {},
   "source": [
    "Select the attributes based on which we will group the candy:"
   ]
  },
  {
   "cell_type": "code",
   "execution_count": 95,
   "metadata": {},
   "outputs": [],
   "source": [
    "cluster_list = ['chocolate', 'fruity', 'caramel', 'peanutyalmondy','nougat', 'crispedricewafer', \n",
    "                #'hard', 'bar', \n",
    "                #'sugarpercent'#,\n",
    "                #'pricepercent'\n",
    "               ]"
   ]
  },
  {
   "cell_type": "markdown",
   "metadata": {},
   "source": [
    "Although I know I'm looking for 3 clusters, we'll try to use the elbow method to identify the most appropriate number of clusters and see if we're close.\n",
    "<br>To perform the elbow method, we'll run several k-means, increment k with each iteration, and record the SSE. We're looking for the spot where the SSE curve starts to bend like an elbow point - there we will have our number of clusters."
   ]
  },
  {
   "cell_type": "code",
   "execution_count": 96,
   "metadata": {},
   "outputs": [],
   "source": [
    "from sklearn.cluster import KMeans\n",
    "from sklearn.preprocessing import StandardScaler, RobustScaler, PowerTransformer\n",
    "from sklearn.metrics import silhouette_score"
   ]
  },
  {
   "cell_type": "code",
   "execution_count": 97,
   "metadata": {},
   "outputs": [],
   "source": [
    "candy_cluster = candy[cluster_list]"
   ]
  },
  {
   "cell_type": "code",
   "execution_count": 99,
   "metadata": {},
   "outputs": [],
   "source": [
    "kmeans_kwargs = {\n",
    "        \"init\": \"random\",\n",
    "        \"n_init\": 10,\n",
    "        \"max_iter\": 300,\n",
    "        \"random_state\": 42,\n",
    "    }\n",
    "   \n",
    "    # A list holds the SSE values for each k\n",
    "sse = []\n",
    "for k in range(1, 11):\n",
    "    kmeans = KMeans(n_clusters=k, **kmeans_kwargs)\n",
    "    kmeans.fit(candy_cluster.values)\n",
    "    sse.append(kmeans.inertia_)"
   ]
  },
  {
   "cell_type": "code",
   "execution_count": 224,
   "metadata": {},
   "outputs": [
    {
     "data": {
      "image/png": "[encoded data removed]",
      "text/plain": [
       "<Figure size 504x504 with 1 Axes>"
      ]
     },
     "metadata": {},
     "output_type": "display_data"
    }
   ],
   "source": [
    "plt.style.use(\"fivethirtyeight\")\n",
    "plt.plot(range(1, 11), sse)\n",
    "plt.xticks(range(1, 11))\n",
    "plt.xlabel(\"Number of Clusters\")\n",
    "plt.ylabel(\"SSE\")\n",
    "plt.show()"
   ]
  },
  {
   "cell_type": "markdown",
   "metadata": {},
   "source": [
    "Interestingly, the result shows that we would ideally have around 4 clusters. However, for our purposes we'll stick with 3 for now."
   ]
  },
  {
   "cell_type": "code",
   "execution_count": 131,
   "metadata": {},
   "outputs": [],
   "source": [
    "# Tried different standardizing methods, but decided against that, since we already have values between 0 and 1\n",
    "df = candy_cluster\n",
    "# scale the data with StandardScaler\n",
    "#df = StandardScaler().fit_transform(df)\n",
    "#df=RobustScaler().fit_transform(df)\n",
    "#df = PowerTransformer().fit_transform(df)\n",
    "kmeans = KMeans(n_clusters=3,random_state=0).fit(df)"
   ]
  },
  {
   "cell_type": "code",
   "execution_count": 132,
   "metadata": {},
   "outputs": [
    {
     "name": "stdout",
     "output_type": "stream",
     "text": [
      "[[ 2.63157895e-02  1.00000000e+00  2.63157895e-02 -5.55111512e-17\n",
      "  -2.77555756e-17 -2.77555756e-17]\n",
      " [ 7.27272727e-01 -1.11022302e-16  3.03030303e-01 -2.77555756e-17\n",
      "   1.21212121e-01  1.81818182e-01]\n",
      " [ 8.57142857e-01 -5.55111512e-17  2.14285714e-01  1.00000000e+00\n",
      "   2.14285714e-01  7.14285714e-02]]\n",
      "[1 1 1 1 0 2 2 2 1 0 1 0 0 0 0 0 0 0 0 1 0 0 1 1 1 1 0 1 1 0 0 0 2 1 0 1 1\n",
      " 1 1 1 2 0 2 1 0 0 2 2 1 0 0 2 2 2 2 0 1 1 0 1 0 0 1 0 2 2 0 0 0 0 1 1 0 0\n",
      " 0 1 1 1 0 1 0 0 0 1 1]\n"
     ]
    }
   ],
   "source": [
    "centers = kmeans.cluster_centers_\n",
    "print(centers)\n",
    "print(kmeans.labels_)"
   ]
  },
  {
   "cell_type": "code",
   "execution_count": 133,
   "metadata": {},
   "outputs": [
    {
     "data": {
      "text/plain": [
       "Counter({1: 33, 0: 38, 2: 14})"
      ]
     },
     "execution_count": 133,
     "metadata": {},
     "output_type": "execute_result"
    }
   ],
   "source": [
    "# how many types of candy do we have per group?\n",
    "from collections import Counter\n",
    "Counter(kmeans.labels_)"
   ]
  },
  {
   "cell_type": "code",
   "execution_count": 134,
   "metadata": {},
   "outputs": [
    {
     "data": {
      "text/plain": [
       "['chocolate',\n",
       " 'fruity',\n",
       " 'caramel',\n",
       " 'peanutyalmondy',\n",
       " 'nougat',\n",
       " 'crispedricewafer']"
      ]
     },
     "execution_count": 134,
     "metadata": {},
     "output_type": "execute_result"
    }
   ],
   "source": [
    "candy_cluster.columns.to_list()"
   ]
  },
  {
   "cell_type": "code",
   "execution_count": 135,
   "metadata": {},
   "outputs": [],
   "source": [
    "syms =['chocolate',\n",
    " 'fruity',\n",
    " 'caramel',\n",
    " 'peanutyalmondy',\n",
    " 'nougat',\n",
    " 'crispedricewafer',\n",
    " ]"
   ]
  },
  {
   "cell_type": "markdown",
   "metadata": {},
   "source": [
    "A visual of the clusters:"
   ]
  },
  {
   "cell_type": "code",
   "execution_count": 136,
   "metadata": {},
   "outputs": [
    {
     "data": {
      "image/png": "[encoded data removed]",
      "text/plain": [
       "<Figure size 720x504 with 3 Axes>"
      ]
     },
     "metadata": {},
     "output_type": "display_data"
    }
   ],
   "source": [
    "centers = pd.DataFrame(kmeans.cluster_centers_, columns = syms)\n",
    "\n",
    "f,axes = plt.subplots(3,1,figsize=(10,7),sharex=True)\n",
    "for i,ax in enumerate(axes):\n",
    "    center = centers.loc[i,:]\n",
    "    maxPC = 1.01*np.max(np.max(np.abs(center)))\n",
    "    colors = ['C0' if l>0 else 'C1' for l in center]\n",
    "    ax.axhline(color='#888888')\n",
    "    center.plot.bar(ax=ax,color=colors)\n",
    "    ax.set_ylabel(f'Cluster {i+1}')\n",
    "    ax.set_ylim(-maxPC,maxPC)"
   ]
  },
  {
   "cell_type": "code",
   "execution_count": 137,
   "metadata": {},
   "outputs": [],
   "source": [
    "# add the cluster data to the candy data \n",
    "candy.loc[:,\"cluster\"] = kmeans.labels_"
   ]
  },
  {
   "cell_type": "code",
   "execution_count": 138,
   "metadata": {},
   "outputs": [
    {
     "data": {
      "text/plain": [
       "cluster\n",
       "0    38\n",
       "1    33\n",
       "2    14\n",
       "dtype: int64"
      ]
     },
     "execution_count": 138,
     "metadata": {},
     "output_type": "execute_result"
    }
   ],
   "source": [
    "# how many taste candies do we have per group?\n",
    "candy.groupby(['cluster']).size()"
   ]
  },
  {
   "cell_type": "markdown",
   "metadata": {},
   "source": [
    "### The Winning Candy Trio + Analysis by Cluster"
   ]
  },
  {
   "cell_type": "markdown",
   "metadata": {},
   "source": [
    "Now that we have the clusters, let's see which our the top favourites by cluster"
   ]
  },
  {
   "cell_type": "code",
   "execution_count": 139,
   "metadata": {},
   "outputs": [
    {
     "data": {
      "text/plain": [
       "cluster\n",
       "0    67.037628\n",
       "1    81.642914\n",
       "2    84.180290\n",
       "Name: winpercent, dtype: float64"
      ]
     },
     "execution_count": 139,
     "metadata": {},
     "output_type": "execute_result"
    }
   ],
   "source": [
    "candy.groupby(['cluster'])['winpercent'].max()"
   ]
  },
  {
   "cell_type": "code",
   "execution_count": 162,
   "metadata": {},
   "outputs": [
    {
     "data": {
      "text/plain": [
       "cluster  competitorname           \n",
       "0        Starburst                    67.037628\n",
       "         Skittles original            63.085140\n",
       "         Sour Patch Kids              59.863998\n",
       "1        Twix                         81.642914\n",
       "         Kit Kat                      76.768600\n",
       "         Milky Way                    73.099556\n",
       "2        Reese's Peanut Butter cup    84.180290\n",
       "         Reese's Miniatures           81.866257\n",
       "         Snickers                     76.673782\n",
       "Name: winpercent, dtype: float64"
      ]
     },
     "execution_count": 162,
     "metadata": {},
     "output_type": "execute_result"
    }
   ],
   "source": [
    "candy.groupby(['cluster'])['winpercent'].nlargest(3)"
   ]
  },
  {
   "cell_type": "code",
   "execution_count": 141,
   "metadata": {},
   "outputs": [],
   "source": [
    "# find the indices of the rows with the highest win percent per each group\n",
    "idx = candy.groupby(['cluster'])['winpercent'].transform(max) == candy['winpercent']"
   ]
  },
  {
   "cell_type": "markdown",
   "metadata": {},
   "source": [
    "And our winners are:"
   ]
  },
  {
   "cell_type": "code",
   "execution_count": 142,
   "metadata": {},
   "outputs": [
    {
     "data": {
      "text/html": [
       "<div>\n",
       "<style scoped>\n",
       "    .dataframe tbody tr th:only-of-type {\n",
       "        vertical-align: middle;\n",
       "    }\n",
       "\n",
       "    .dataframe tbody tr th {\n",
       "        vertical-align: top;\n",
       "    }\n",
       "\n",
       "    .dataframe thead th {\n",
       "        text-align: right;\n",
       "    }\n",
       "</style>\n",
       "<table border=\"1\" class=\"dataframe\">\n",
       "  <thead>\n",
       "    <tr style=\"text-align: right;\">\n",
       "      <th></th>\n",
       "      <th>chocolate</th>\n",
       "      <th>fruity</th>\n",
       "      <th>caramel</th>\n",
       "      <th>peanutyalmondy</th>\n",
       "      <th>nougat</th>\n",
       "      <th>crispedricewafer</th>\n",
       "      <th>hard</th>\n",
       "      <th>bar</th>\n",
       "      <th>pluribus</th>\n",
       "      <th>sugarpercent</th>\n",
       "      <th>pricepercent</th>\n",
       "      <th>winpercent</th>\n",
       "      <th>win</th>\n",
       "      <th>cluster</th>\n",
       "    </tr>\n",
       "    <tr>\n",
       "      <th>competitorname</th>\n",
       "      <th></th>\n",
       "      <th></th>\n",
       "      <th></th>\n",
       "      <th></th>\n",
       "      <th></th>\n",
       "      <th></th>\n",
       "      <th></th>\n",
       "      <th></th>\n",
       "      <th></th>\n",
       "      <th></th>\n",
       "      <th></th>\n",
       "      <th></th>\n",
       "      <th></th>\n",
       "      <th></th>\n",
       "    </tr>\n",
       "  </thead>\n",
       "  <tbody>\n",
       "    <tr>\n",
       "      <th>Reese's Peanut Butter cup</th>\n",
       "      <td>1</td>\n",
       "      <td>0</td>\n",
       "      <td>0</td>\n",
       "      <td>1</td>\n",
       "      <td>0</td>\n",
       "      <td>0</td>\n",
       "      <td>0</td>\n",
       "      <td>0</td>\n",
       "      <td>0</td>\n",
       "      <td>0.720</td>\n",
       "      <td>0.651</td>\n",
       "      <td>84.180290</td>\n",
       "      <td>0.841803</td>\n",
       "      <td>2</td>\n",
       "    </tr>\n",
       "    <tr>\n",
       "      <th>Starburst</th>\n",
       "      <td>0</td>\n",
       "      <td>1</td>\n",
       "      <td>0</td>\n",
       "      <td>0</td>\n",
       "      <td>0</td>\n",
       "      <td>0</td>\n",
       "      <td>0</td>\n",
       "      <td>0</td>\n",
       "      <td>1</td>\n",
       "      <td>0.151</td>\n",
       "      <td>0.220</td>\n",
       "      <td>67.037628</td>\n",
       "      <td>0.670376</td>\n",
       "      <td>0</td>\n",
       "    </tr>\n",
       "    <tr>\n",
       "      <th>Twix</th>\n",
       "      <td>1</td>\n",
       "      <td>0</td>\n",
       "      <td>1</td>\n",
       "      <td>0</td>\n",
       "      <td>0</td>\n",
       "      <td>1</td>\n",
       "      <td>0</td>\n",
       "      <td>1</td>\n",
       "      <td>0</td>\n",
       "      <td>0.546</td>\n",
       "      <td>0.906</td>\n",
       "      <td>81.642914</td>\n",
       "      <td>0.816429</td>\n",
       "      <td>1</td>\n",
       "    </tr>\n",
       "  </tbody>\n",
       "</table>\n",
       "</div>"
      ],
      "text/plain": [
       "                           chocolate  fruity  caramel  peanutyalmondy  nougat  \\\n",
       "competitorname                                                                  \n",
       "Reese's Peanut Butter cup          1       0        0               1       0   \n",
       "Starburst                          0       1        0               0       0   \n",
       "Twix                               1       0        1               0       0   \n",
       "\n",
       "                           crispedricewafer  hard  bar  pluribus  \\\n",
       "competitorname                                                     \n",
       "Reese's Peanut Butter cup                 0     0    0         0   \n",
       "Starburst                                 0     0    0         1   \n",
       "Twix                                      1     0    1         0   \n",
       "\n",
       "                           sugarpercent  pricepercent  winpercent       win  \\\n",
       "competitorname                                                                \n",
       "Reese's Peanut Butter cup         0.720         0.651   84.180290  0.841803   \n",
       "Starburst                         0.151         0.220   67.037628  0.670376   \n",
       "Twix                              0.546         0.906   81.642914  0.816429   \n",
       "\n",
       "                           cluster  \n",
       "competitorname                      \n",
       "Reese's Peanut Butter cup        2  \n",
       "Starburst                        0  \n",
       "Twix                             1  "
      ]
     },
     "execution_count": 142,
     "metadata": {},
     "output_type": "execute_result"
    }
   ],
   "source": [
    "# our final choices\n",
    "candy[idx]"
   ]
  },
  {
   "cell_type": "code",
   "execution_count": 143,
   "metadata": {},
   "outputs": [
    {
     "data": {
      "text/html": [
       "<div>\n",
       "<style scoped>\n",
       "    .dataframe tbody tr th:only-of-type {\n",
       "        vertical-align: middle;\n",
       "    }\n",
       "\n",
       "    .dataframe tbody tr th {\n",
       "        vertical-align: top;\n",
       "    }\n",
       "\n",
       "    .dataframe thead th {\n",
       "        text-align: right;\n",
       "    }\n",
       "</style>\n",
       "<table border=\"1\" class=\"dataframe\">\n",
       "  <thead>\n",
       "    <tr style=\"text-align: right;\">\n",
       "      <th></th>\n",
       "      <th>chocolate</th>\n",
       "      <th>fruity</th>\n",
       "      <th>caramel</th>\n",
       "      <th>peanutyalmondy</th>\n",
       "      <th>nougat</th>\n",
       "      <th>crispedricewafer</th>\n",
       "      <th>hard</th>\n",
       "      <th>bar</th>\n",
       "      <th>pluribus</th>\n",
       "      <th>sugarpercent</th>\n",
       "      <th>pricepercent</th>\n",
       "      <th>winpercent</th>\n",
       "      <th>win</th>\n",
       "      <th>cluster</th>\n",
       "    </tr>\n",
       "    <tr>\n",
       "      <th>competitorname</th>\n",
       "      <th></th>\n",
       "      <th></th>\n",
       "      <th></th>\n",
       "      <th></th>\n",
       "      <th></th>\n",
       "      <th></th>\n",
       "      <th></th>\n",
       "      <th></th>\n",
       "      <th></th>\n",
       "      <th></th>\n",
       "      <th></th>\n",
       "      <th></th>\n",
       "      <th></th>\n",
       "      <th></th>\n",
       "    </tr>\n",
       "  </thead>\n",
       "  <tbody>\n",
       "    <tr>\n",
       "      <th>Kit Kat</th>\n",
       "      <td>1</td>\n",
       "      <td>0</td>\n",
       "      <td>0</td>\n",
       "      <td>0</td>\n",
       "      <td>0</td>\n",
       "      <td>1</td>\n",
       "      <td>0</td>\n",
       "      <td>1</td>\n",
       "      <td>0</td>\n",
       "      <td>0.313</td>\n",
       "      <td>0.511</td>\n",
       "      <td>76.768600</td>\n",
       "      <td>0.767686</td>\n",
       "      <td>1</td>\n",
       "    </tr>\n",
       "    <tr>\n",
       "      <th>Milky Way</th>\n",
       "      <td>1</td>\n",
       "      <td>0</td>\n",
       "      <td>1</td>\n",
       "      <td>0</td>\n",
       "      <td>1</td>\n",
       "      <td>0</td>\n",
       "      <td>0</td>\n",
       "      <td>1</td>\n",
       "      <td>0</td>\n",
       "      <td>0.604</td>\n",
       "      <td>0.651</td>\n",
       "      <td>73.099556</td>\n",
       "      <td>0.730996</td>\n",
       "      <td>1</td>\n",
       "    </tr>\n",
       "    <tr>\n",
       "      <th>Reese's Miniatures</th>\n",
       "      <td>1</td>\n",
       "      <td>0</td>\n",
       "      <td>0</td>\n",
       "      <td>1</td>\n",
       "      <td>0</td>\n",
       "      <td>0</td>\n",
       "      <td>0</td>\n",
       "      <td>0</td>\n",
       "      <td>0</td>\n",
       "      <td>0.034</td>\n",
       "      <td>0.279</td>\n",
       "      <td>81.866257</td>\n",
       "      <td>0.818663</td>\n",
       "      <td>2</td>\n",
       "    </tr>\n",
       "    <tr>\n",
       "      <th>Reese's Peanut Butter cup</th>\n",
       "      <td>1</td>\n",
       "      <td>0</td>\n",
       "      <td>0</td>\n",
       "      <td>1</td>\n",
       "      <td>0</td>\n",
       "      <td>0</td>\n",
       "      <td>0</td>\n",
       "      <td>0</td>\n",
       "      <td>0</td>\n",
       "      <td>0.720</td>\n",
       "      <td>0.651</td>\n",
       "      <td>84.180290</td>\n",
       "      <td>0.841803</td>\n",
       "      <td>2</td>\n",
       "    </tr>\n",
       "    <tr>\n",
       "      <th>Skittles original</th>\n",
       "      <td>0</td>\n",
       "      <td>1</td>\n",
       "      <td>0</td>\n",
       "      <td>0</td>\n",
       "      <td>0</td>\n",
       "      <td>0</td>\n",
       "      <td>0</td>\n",
       "      <td>0</td>\n",
       "      <td>1</td>\n",
       "      <td>0.941</td>\n",
       "      <td>0.220</td>\n",
       "      <td>63.085140</td>\n",
       "      <td>0.630851</td>\n",
       "      <td>0</td>\n",
       "    </tr>\n",
       "    <tr>\n",
       "      <th>Snickers</th>\n",
       "      <td>1</td>\n",
       "      <td>0</td>\n",
       "      <td>1</td>\n",
       "      <td>1</td>\n",
       "      <td>1</td>\n",
       "      <td>0</td>\n",
       "      <td>0</td>\n",
       "      <td>1</td>\n",
       "      <td>0</td>\n",
       "      <td>0.546</td>\n",
       "      <td>0.651</td>\n",
       "      <td>76.673782</td>\n",
       "      <td>0.766738</td>\n",
       "      <td>2</td>\n",
       "    </tr>\n",
       "    <tr>\n",
       "      <th>Sour Patch Kids</th>\n",
       "      <td>0</td>\n",
       "      <td>1</td>\n",
       "      <td>0</td>\n",
       "      <td>0</td>\n",
       "      <td>0</td>\n",
       "      <td>0</td>\n",
       "      <td>0</td>\n",
       "      <td>0</td>\n",
       "      <td>1</td>\n",
       "      <td>0.069</td>\n",
       "      <td>0.116</td>\n",
       "      <td>59.863998</td>\n",
       "      <td>0.598640</td>\n",
       "      <td>0</td>\n",
       "    </tr>\n",
       "    <tr>\n",
       "      <th>Starburst</th>\n",
       "      <td>0</td>\n",
       "      <td>1</td>\n",
       "      <td>0</td>\n",
       "      <td>0</td>\n",
       "      <td>0</td>\n",
       "      <td>0</td>\n",
       "      <td>0</td>\n",
       "      <td>0</td>\n",
       "      <td>1</td>\n",
       "      <td>0.151</td>\n",
       "      <td>0.220</td>\n",
       "      <td>67.037628</td>\n",
       "      <td>0.670376</td>\n",
       "      <td>0</td>\n",
       "    </tr>\n",
       "    <tr>\n",
       "      <th>Twix</th>\n",
       "      <td>1</td>\n",
       "      <td>0</td>\n",
       "      <td>1</td>\n",
       "      <td>0</td>\n",
       "      <td>0</td>\n",
       "      <td>1</td>\n",
       "      <td>0</td>\n",
       "      <td>1</td>\n",
       "      <td>0</td>\n",
       "      <td>0.546</td>\n",
       "      <td>0.906</td>\n",
       "      <td>81.642914</td>\n",
       "      <td>0.816429</td>\n",
       "      <td>1</td>\n",
       "    </tr>\n",
       "  </tbody>\n",
       "</table>\n",
       "</div>"
      ],
      "text/plain": [
       "                           chocolate  fruity  caramel  peanutyalmondy  nougat  \\\n",
       "competitorname                                                                  \n",
       "Kit Kat                            1       0        0               0       0   \n",
       "Milky Way                          1       0        1               0       1   \n",
       "Reese's Miniatures                 1       0        0               1       0   \n",
       "Reese's Peanut Butter cup          1       0        0               1       0   \n",
       "Skittles original                  0       1        0               0       0   \n",
       "Snickers                           1       0        1               1       1   \n",
       "Sour Patch Kids                    0       1        0               0       0   \n",
       "Starburst                          0       1        0               0       0   \n",
       "Twix                               1       0        1               0       0   \n",
       "\n",
       "                           crispedricewafer  hard  bar  pluribus  \\\n",
       "competitorname                                                     \n",
       "Kit Kat                                   1     0    1         0   \n",
       "Milky Way                                 0     0    1         0   \n",
       "Reese's Miniatures                        0     0    0         0   \n",
       "Reese's Peanut Butter cup                 0     0    0         0   \n",
       "Skittles original                         0     0    0         1   \n",
       "Snickers                                  0     0    1         0   \n",
       "Sour Patch Kids                           0     0    0         1   \n",
       "Starburst                                 0     0    0         1   \n",
       "Twix                                      1     0    1         0   \n",
       "\n",
       "                           sugarpercent  pricepercent  winpercent       win  \\\n",
       "competitorname                                                                \n",
       "Kit Kat                           0.313         0.511   76.768600  0.767686   \n",
       "Milky Way                         0.604         0.651   73.099556  0.730996   \n",
       "Reese's Miniatures                0.034         0.279   81.866257  0.818663   \n",
       "Reese's Peanut Butter cup         0.720         0.651   84.180290  0.841803   \n",
       "Skittles original                 0.941         0.220   63.085140  0.630851   \n",
       "Snickers                          0.546         0.651   76.673782  0.766738   \n",
       "Sour Patch Kids                   0.069         0.116   59.863998  0.598640   \n",
       "Starburst                         0.151         0.220   67.037628  0.670376   \n",
       "Twix                              0.546         0.906   81.642914  0.816429   \n",
       "\n",
       "                           cluster  \n",
       "competitorname                      \n",
       "Kit Kat                          1  \n",
       "Milky Way                        1  \n",
       "Reese's Miniatures               2  \n",
       "Reese's Peanut Butter cup        2  \n",
       "Skittles original                0  \n",
       "Snickers                         2  \n",
       "Sour Patch Kids                  0  \n",
       "Starburst                        0  \n",
       "Twix                             1  "
      ]
     },
     "execution_count": 143,
     "metadata": {},
     "output_type": "execute_result"
    }
   ],
   "source": [
    "# let's see the top 3 in each cluster\n",
    "candy[candy.groupby('cluster')['winpercent'].apply(lambda x: x.isin(x.nlargest(3)))]"
   ]
  },
  {
   "cell_type": "code",
   "execution_count": 225,
   "metadata": {},
   "outputs": [],
   "source": [
    "#export data to csv for PowerBI\n",
    "# candy.to_csv(r'C:\\Users\\Irina\\Documents\\GitHub Portofolio\\Maven Halloween Candy Challenge\\candy_cluster.csv')"
   ]
  },
  {
   "cell_type": "markdown",
   "metadata": {},
   "source": [
    "Let's see how the ingredients are distributed by cluster:"
   ]
  },
  {
   "cell_type": "code",
   "execution_count": 155,
   "metadata": {},
   "outputs": [
    {
     "data": {
      "text/html": [
       "<style type=\"text/css\">\n",
       "#T_0f31c_row0_col0, #T_0f31c_row2_col0 {\n",
       "  background-color: #fbf4f9;\n",
       "  color: #000000;\n",
       "}\n",
       "#T_0f31c_row0_col1, #T_0f31c_row1_col0, #T_0f31c_row3_col2 {\n",
       "  background-color: #023858;\n",
       "  color: #f1f1f1;\n",
       "}\n",
       "#T_0f31c_row0_col2 {\n",
       "  background-color: #045d92;\n",
       "  color: #f1f1f1;\n",
       "}\n",
       "#T_0f31c_row1_col1, #T_0f31c_row1_col2, #T_0f31c_row3_col0, #T_0f31c_row3_col1, #T_0f31c_row4_col0, #T_0f31c_row5_col0, #T_0f31c_row6_col2, #T_0f31c_row7_col0 {\n",
       "  background-color: #fff7fb;\n",
       "  color: #000000;\n",
       "}\n",
       "#T_0f31c_row2_col1 {\n",
       "  background-color: #96b6d7;\n",
       "  color: #000000;\n",
       "}\n",
       "#T_0f31c_row2_col2, #T_0f31c_row4_col2 {\n",
       "  background-color: #d9d8ea;\n",
       "  color: #000000;\n",
       "}\n",
       "#T_0f31c_row4_col1 {\n",
       "  background-color: #e3e0ee;\n",
       "  color: #000000;\n",
       "}\n",
       "#T_0f31c_row5_col1 {\n",
       "  background-color: #d0d1e6;\n",
       "  color: #000000;\n",
       "}\n",
       "#T_0f31c_row5_col2 {\n",
       "  background-color: #f4eef6;\n",
       "  color: #000000;\n",
       "}\n",
       "#T_0f31c_row6_col0 {\n",
       "  background-color: #b1c2de;\n",
       "  color: #000000;\n",
       "}\n",
       "#T_0f31c_row6_col1 {\n",
       "  background-color: #f2ecf5;\n",
       "  color: #000000;\n",
       "}\n",
       "#T_0f31c_row7_col1, #T_0f31c_row8_col1 {\n",
       "  background-color: #4a98c5;\n",
       "  color: #f1f1f1;\n",
       "}\n",
       "#T_0f31c_row7_col2 {\n",
       "  background-color: #73a9cf;\n",
       "  color: #f1f1f1;\n",
       "}\n",
       "#T_0f31c_row8_col0 {\n",
       "  background-color: #1e80b8;\n",
       "  color: #f1f1f1;\n",
       "}\n",
       "#T_0f31c_row8_col2 {\n",
       "  background-color: #c4cbe3;\n",
       "  color: #000000;\n",
       "}\n",
       "</style>\n",
       "<table id=\"T_0f31c_\">\n",
       "  <thead>\n",
       "    <tr>\n",
       "      <th class=\"index_name level0\" >cluster</th>\n",
       "      <th class=\"col_heading level0 col0\" >0</th>\n",
       "      <th class=\"col_heading level0 col1\" >1</th>\n",
       "      <th class=\"col_heading level0 col2\" >2</th>\n",
       "    </tr>\n",
       "  </thead>\n",
       "  <tbody>\n",
       "    <tr>\n",
       "      <th id=\"T_0f31c_level0_row0\" class=\"row_heading level0 row0\" >chocolate</th>\n",
       "      <td id=\"T_0f31c_row0_col0\" class=\"data row0 col0\" >1</td>\n",
       "      <td id=\"T_0f31c_row0_col1\" class=\"data row0 col1\" >24</td>\n",
       "      <td id=\"T_0f31c_row0_col2\" class=\"data row0 col2\" >12</td>\n",
       "    </tr>\n",
       "    <tr>\n",
       "      <th id=\"T_0f31c_level0_row1\" class=\"row_heading level0 row1\" >fruity</th>\n",
       "      <td id=\"T_0f31c_row1_col0\" class=\"data row1 col0\" >38</td>\n",
       "      <td id=\"T_0f31c_row1_col1\" class=\"data row1 col1\" >0</td>\n",
       "      <td id=\"T_0f31c_row1_col2\" class=\"data row1 col2\" >0</td>\n",
       "    </tr>\n",
       "    <tr>\n",
       "      <th id=\"T_0f31c_level0_row2\" class=\"row_heading level0 row2\" >caramel</th>\n",
       "      <td id=\"T_0f31c_row2_col0\" class=\"data row2 col0\" >1</td>\n",
       "      <td id=\"T_0f31c_row2_col1\" class=\"data row2 col1\" >10</td>\n",
       "      <td id=\"T_0f31c_row2_col2\" class=\"data row2 col2\" >3</td>\n",
       "    </tr>\n",
       "    <tr>\n",
       "      <th id=\"T_0f31c_level0_row3\" class=\"row_heading level0 row3\" >peanutyalmondy</th>\n",
       "      <td id=\"T_0f31c_row3_col0\" class=\"data row3 col0\" >0</td>\n",
       "      <td id=\"T_0f31c_row3_col1\" class=\"data row3 col1\" >0</td>\n",
       "      <td id=\"T_0f31c_row3_col2\" class=\"data row3 col2\" >14</td>\n",
       "    </tr>\n",
       "    <tr>\n",
       "      <th id=\"T_0f31c_level0_row4\" class=\"row_heading level0 row4\" >nougat</th>\n",
       "      <td id=\"T_0f31c_row4_col0\" class=\"data row4 col0\" >0</td>\n",
       "      <td id=\"T_0f31c_row4_col1\" class=\"data row4 col1\" >4</td>\n",
       "      <td id=\"T_0f31c_row4_col2\" class=\"data row4 col2\" >3</td>\n",
       "    </tr>\n",
       "    <tr>\n",
       "      <th id=\"T_0f31c_level0_row5\" class=\"row_heading level0 row5\" >crispedricewafer</th>\n",
       "      <td id=\"T_0f31c_row5_col0\" class=\"data row5 col0\" >0</td>\n",
       "      <td id=\"T_0f31c_row5_col1\" class=\"data row5 col1\" >6</td>\n",
       "      <td id=\"T_0f31c_row5_col2\" class=\"data row5 col2\" >1</td>\n",
       "    </tr>\n",
       "    <tr>\n",
       "      <th id=\"T_0f31c_level0_row6\" class=\"row_heading level0 row6\" >hard</th>\n",
       "      <td id=\"T_0f31c_row6_col0\" class=\"data row6 col0\" >13</td>\n",
       "      <td id=\"T_0f31c_row6_col1\" class=\"data row6 col1\" >2</td>\n",
       "      <td id=\"T_0f31c_row6_col2\" class=\"data row6 col2\" >0</td>\n",
       "    </tr>\n",
       "    <tr>\n",
       "      <th id=\"T_0f31c_level0_row7\" class=\"row_heading level0 row7\" >bar</th>\n",
       "      <td id=\"T_0f31c_row7_col0\" class=\"data row7 col0\" >0</td>\n",
       "      <td id=\"T_0f31c_row7_col1\" class=\"data row7 col1\" >14</td>\n",
       "      <td id=\"T_0f31c_row7_col2\" class=\"data row7 col2\" >7</td>\n",
       "    </tr>\n",
       "    <tr>\n",
       "      <th id=\"T_0f31c_level0_row8\" class=\"row_heading level0 row8\" >pluribus</th>\n",
       "      <td id=\"T_0f31c_row8_col0\" class=\"data row8 col0\" >26</td>\n",
       "      <td id=\"T_0f31c_row8_col1\" class=\"data row8 col1\" >14</td>\n",
       "      <td id=\"T_0f31c_row8_col2\" class=\"data row8 col2\" >4</td>\n",
       "    </tr>\n",
       "  </tbody>\n",
       "</table>\n"
      ],
      "text/plain": [
       "<pandas.io.formats.style.Styler at 0x1e9ac629d88>"
      ]
     },
     "execution_count": 155,
     "metadata": {},
     "output_type": "execute_result"
    }
   ],
   "source": [
    "candy[['chocolate', 'fruity', 'caramel', 'peanutyalmondy', 'nougat',\n",
    "       'crispedricewafer', 'hard', 'bar', 'pluribus','cluster']].groupby(['cluster']).sum().transpose().style.background_gradient(axis=0)  "
   ]
  },
  {
   "cell_type": "markdown",
   "metadata": {},
   "source": [
    "And the average sugar and price percent by cluster:"
   ]
  },
  {
   "cell_type": "code",
   "execution_count": 156,
   "metadata": {},
   "outputs": [
    {
     "data": {
      "text/html": [
       "<style type=\"text/css\">\n",
       "#T_b60c9_row0_col0, #T_b60c9_row1_col1, #T_b60c9_row1_col2 {\n",
       "  background-color: #023858;\n",
       "  color: #f1f1f1;\n",
       "}\n",
       "#T_b60c9_row0_col1, #T_b60c9_row0_col2, #T_b60c9_row1_col0 {\n",
       "  background-color: #fff7fb;\n",
       "  color: #000000;\n",
       "}\n",
       "#T_b60c9_row2_col0 {\n",
       "  background-color: #0567a1;\n",
       "  color: #f1f1f1;\n",
       "}\n",
       "#T_b60c9_row2_col1 {\n",
       "  background-color: #2182b9;\n",
       "  color: #f1f1f1;\n",
       "}\n",
       "#T_b60c9_row2_col2 {\n",
       "  background-color: #056ba9;\n",
       "  color: #f1f1f1;\n",
       "}\n",
       "</style>\n",
       "<table id=\"T_b60c9_\">\n",
       "  <thead>\n",
       "    <tr>\n",
       "      <th class=\"index_name level0\" >cluster</th>\n",
       "      <th class=\"col_heading level0 col0\" >0</th>\n",
       "      <th class=\"col_heading level0 col1\" >1</th>\n",
       "      <th class=\"col_heading level0 col2\" >2</th>\n",
       "    </tr>\n",
       "  </thead>\n",
       "  <tbody>\n",
       "    <tr>\n",
       "      <th id=\"T_b60c9_level0_row0\" class=\"row_heading level0 row0\" >sugarpercent</th>\n",
       "      <td id=\"T_b60c9_row0_col0\" class=\"data row0 col0\" >0.467895</td>\n",
       "      <td id=\"T_b60c9_row0_col1\" class=\"data row0 col1\" >0.467424</td>\n",
       "      <td id=\"T_b60c9_row0_col2\" class=\"data row0 col2\" >0.534286</td>\n",
       "    </tr>\n",
       "    <tr>\n",
       "      <th id=\"T_b60c9_level0_row1\" class=\"row_heading level0 row1\" >pricepercent</th>\n",
       "      <td id=\"T_b60c9_row1_col0\" class=\"data row1 col0\" >0.332737</td>\n",
       "      <td id=\"T_b60c9_row1_col1\" class=\"data row1 col1\" >0.541758</td>\n",
       "      <td id=\"T_b60c9_row1_col2\" class=\"data row1 col2\" >0.666643</td>\n",
       "    </tr>\n",
       "    <tr>\n",
       "      <th id=\"T_b60c9_level0_row2\" class=\"row_heading level0 row2\" >win</th>\n",
       "      <td id=\"T_b60c9_row2_col0\" class=\"data row2 col0\" >0.441197</td>\n",
       "      <td id=\"T_b60c9_row2_col1\" class=\"data row2 col1\" >0.517762</td>\n",
       "      <td id=\"T_b60c9_row2_col2\" class=\"data row2 col2\" >0.636971</td>\n",
       "    </tr>\n",
       "  </tbody>\n",
       "</table>\n"
      ],
      "text/plain": [
       "<pandas.io.formats.style.Styler at 0x1e9ac5dda48>"
      ]
     },
     "execution_count": 156,
     "metadata": {},
     "output_type": "execute_result"
    }
   ],
   "source": [
    "candy[['sugarpercent',\n",
    "       'pricepercent','win','cluster']].groupby(['cluster']).mean().transpose().style.background_gradient(axis=0)  "
   ]
  },
  {
   "cell_type": "markdown",
   "metadata": {},
   "source": [
    "And the correlations between win - sugar and win - price - this time by cluster!"
   ]
  },
  {
   "cell_type": "code",
   "execution_count": 226,
   "metadata": {},
   "outputs": [
    {
     "data": {
      "text/plain": [
       "<seaborn.axisgrid.FacetGrid at 0x1e9ae2e1388>"
      ]
     },
     "execution_count": 226,
     "metadata": {},
     "output_type": "execute_result"
    },
    {
     "data": {
      "image/png": "[encoded data removed]",
      "text/plain": [
       "<Figure size 648x216 with 3 Axes>"
      ]
     },
     "metadata": {},
     "output_type": "display_data"
    }
   ],
   "source": [
    "sns.set(style=\"white\")\n",
    "sns.lmplot(\n",
    "    data=candy, x=\"sugarpercent\", y=\"win\",\n",
    "    col=\"cluster\",hue='cluster', height=3,\n",
    ")"
   ]
  },
  {
   "cell_type": "code",
   "execution_count": 227,
   "metadata": {},
   "outputs": [
    {
     "data": {
      "text/plain": [
       "<seaborn.axisgrid.FacetGrid at 0x1e9ae2a0548>"
      ]
     },
     "execution_count": 227,
     "metadata": {},
     "output_type": "execute_result"
    },
    {
     "data": {
      "image/png": "[encoded data removed]",
      "text/plain": [
       "<Figure size 648x216 with 3 Axes>"
      ]
     },
     "metadata": {},
     "output_type": "display_data"
    }
   ],
   "source": [
    "sns.lmplot(\n",
    "    data=candy, x=\"pricepercent\", y=\"win\",\n",
    "    col=\"cluster\",hue='cluster', height=3,\n",
    ")"
   ]
  },
  {
   "cell_type": "markdown",
   "metadata": {},
   "source": [
    "An the analysis continues! In PowerBI :)\n",
    "Check the PowerBI report for a quick presentation of the results and for an interactive shopping list for the busy shopper."
   ]
  }
 ],
 "metadata": {
  "kernelspec": {
   "display_name": "Python 3",
   "language": "python",
   "name": "python3"
  },
  "language_info": {
   "codemirror_mode": {
    "name": "ipython",
    "version": 3
   },
   "file_extension": ".py",
   "mimetype": "text/x-python",
   "name": "python",
   "nbconvert_exporter": "python",
   "pygments_lexer": "ipython3",
   "version": "3.7.9"
  }
 },
 "nbformat": 4,
 "nbformat_minor": 4
}
